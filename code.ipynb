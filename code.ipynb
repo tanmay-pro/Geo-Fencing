{
 "cells": [
  {
   "cell_type": "code",
   "execution_count": null,
   "metadata": {},
   "outputs": [],
   "source": [
    "import geopandas as gpd\n",
    "from shapely.geometry import Point, Polygon\n",
    "import lxml.etree as ET\n",
    "import pandas as pd\n",
    "\n",
    "def create_polygon(coordinates_str):\n",
    "    points_list = [tuple(map(float, pair.split(','))) for pair in coordinates_str.split()]\n",
    "    polygon = Polygon(points_list)\n",
    "    return gpd.GeoDataFrame(geometry=[polygon])\n",
    "\n",
    "def create_point(coordinates_str):\n",
    "    lat, long = map(float, coordinates_str.split(','))\n",
    "    point = Point(lat, long)\n",
    "    return gpd.GeoDataFrame(geometry=[point])"
   ]
  },
  {
   "cell_type": "code",
   "execution_count": null,
   "metadata": {},
   "outputs": [],
   "source": [
    "def parse_coordinates(file_path, entity_type, limit):\n",
    "    entities = []\n",
    "    with open(file_path, 'r') as f:\n",
    "        for line in f:\n",
    "            limit -= 1\n",
    "            if limit == 0:\n",
    "                break\n",
    "            entity = '<' + line.split(\":<\")[1]\n",
    "            entity = entity.replace('srsName', 'crsName')\n",
    "            root = ET.fromstring(entity)\n",
    "            coordinates = root.findall(\".//{http://www.opengis.net/gml}coordinates\")\n",
    "            for coord in coordinates:\n",
    "                if entity_type == 'polygon':\n",
    "                    entity_df = create_polygon(coord.text)\n",
    "                elif entity_type == 'point':\n",
    "                    entity_df = create_point(coord.text)\n",
    "                entities.append(entity_df['geometry'][0])\n",
    "    return entities"
   ]
  },
  {
   "cell_type": "code",
   "execution_count": null,
   "metadata": {},
   "outputs": [],
   "source": [
    "polygon_file = \"data/poly1.txt\"\n",
    "point_file = \"data/points.txt\"\n",
    "polygon_limit = 10\n",
    "point_limit = 31\n",
    "\n",
    "polygons = parse_coordinates(polygon_file, 'polygon', polygon_limit)\n",
    "points = parse_coordinates(point_file, 'point', point_limit)\n",
    "\n",
    "print(polygons)\n",
    "print(points)"
   ]
  }
 ],
 "metadata": {
  "kernelspec": {
   "display_name": "Python 3",
   "language": "python",
   "name": "python3"
  },
  "language_info": {
   "codemirror_mode": {
    "name": "ipython",
    "version": 3
   },
   "file_extension": ".py",
   "mimetype": "text/x-python",
   "name": "python",
   "nbconvert_exporter": "python",
   "pygments_lexer": "ipython3",
   "version": "3.10.6"
  },
  "orig_nbformat": 4
 },
 "nbformat": 4,
 "nbformat_minor": 2
}
